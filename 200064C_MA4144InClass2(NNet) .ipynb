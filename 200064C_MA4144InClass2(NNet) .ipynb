{
 "cells": [
  {
   "cell_type": "markdown",
   "id": "56157fb7-11e7-4151-8a9c-e95c4a844924",
   "metadata": {
    "deletable": false,
    "editable": false
   },
   "source": [
    "# <center>Feedforward and Backpropagation</center>\n",
    "## <center>Inclass Project 2 - MA4144</center>\n",
    "\n",
    "This project contains 10 tasks/questions to be completed, some require written answers. Open a markdown cell below the respective question that require written answers and provide (type) your answers. Questions that required written answers are given in blue fonts. Almost all written questions are open ended, they do not have a correct or wrong answer. You are free to give your opinions, but please provide related answers within the context.\n",
    "\n",
    "After finishing project run the entire notebook once and **save the notebook as a pdf** (File menu -> Save and Export Notebook As -> PDF). You are **required to upload this PDF on moodle**.\n",
    "\n",
    "***"
   ]
  },
  {
   "attachments": {},
   "cell_type": "markdown",
   "id": "37c45f68-8516-4bd3-80b3-fa38c9fc01bf",
   "metadata": {
    "deletable": false,
    "editable": false
   },
   "source": [
    "## Outline of the project\n",
    "\n",
    "The aim of the project is to build a Multi Layer perceptron (MLP) model from scratch for binary classification. That is given an input $x$ output the associated class label $0$ or $1$.\n",
    "\n",
    "In particular, we will classify images of handwritten digits ($0, 1, 2, \\cdots, 9$). For example, given a set of handwritten digit images that only contain two digits (Eg: $1$ and $5$) the model will classify the images based on the written digit.\n",
    "\n",
    "For this we will use the MNIST dataset (collection of $28 \\times 28$ images of handwritten digits) - you can find additional information about MNIST [here](https://en.wikipedia.org/wiki/MNIST_database).\n",
    "\n",
    "<img src=\"https://upload.wikimedia.org/wikipedia/commons/f/f7/MnistExamplesModified.png\" width=\"250\">\n",
    "\n",
    "***\n"
   ]
  },
  {
   "cell_type": "markdown",
   "id": "ba8a0988-42a0-4e8f-abf5-2bc3ddf18304",
   "metadata": {
    "deletable": false,
    "editable": false
   },
   "source": [
    "Use the below cell to use any include any imports"
   ]
  },
  {
   "cell_type": "code",
   "execution_count": 1,
   "id": "aac8649a-c1fe-4236-8ebd-ce3faa43ee3b",
   "metadata": {},
   "outputs": [],
   "source": [
    "import numpy as np\n",
    "from keras.datasets import mnist\n",
    "import matplotlib.pyplot as plt\n",
    "from sklearn.metrics import accuracy_score"
   ]
  },
  {
   "cell_type": "markdown",
   "id": "e64c6025-f0e5-440e-ab25-fb22393f186c",
   "metadata": {
    "deletable": false,
    "editable": false
   },
   "source": [
    "## Section 1: Preparing the data"
   ]
  },
  {
   "cell_type": "code",
   "execution_count": 2,
   "id": "41a0c01b-d4ce-47c6-ad39-80ea85a59543",
   "metadata": {},
   "outputs": [
    {
     "name": "stdout",
     "output_type": "stream",
     "text": [
      "(60000, 28, 28)\n",
      "(10000, 28, 28)\n",
      "(60000,)\n",
      "(10000,)\n"
     ]
    }
   ],
   "source": [
    "#Load the dataset as training and testing, then print out the shapes of the data matrices\n",
    "\n",
    "(train_X, train_y), (test_X, test_y) = mnist.load_data()\n",
    "print(train_X.shape)\n",
    "print(test_X.shape)\n",
    "print(train_y.shape)\n",
    "print(test_y.shape)"
   ]
  },
  {
   "cell_type": "markdown",
   "id": "1135bf15-9a80-4d14-8fb4-e30c9e53a4cf",
   "metadata": {
    "deletable": false,
    "editable": false
   },
   "source": [
    "**Q1.** In the following cell write code to display $5$ random images in train_X and it's corresponding label in train_y. Each time it is run, you should get a different set of images. The imshow function in the matplotlib library could be useful. Display them as [grayscale images](https://en.wikipedia.org/wiki/Grayscale)."
   ]
  },
  {
   "cell_type": "code",
   "execution_count": 3,
   "id": "dad09af0-90d7-4590-922e-d114755455a4",
   "metadata": {},
   "outputs": [
    {
     "data": {
      "image/png": "[encoded data removed]",
      "text/plain": [
       "<Figure size 1000x500 with 5 Axes>"
      ]
     },
     "metadata": {},
     "output_type": "display_data"
    }
   ],
   "source": [
    "def display_random_images(train_X, train_y, num_images=5):\n",
    "    plt.figure(figsize=(10, 5))\n",
    "    for i in range(num_images):\n",
    "        # Randomly select an index\n",
    "        random_idx = np.random.randint(0, train_X.shape[0])\n",
    "        \n",
    "        # Get the image and corresponding label\n",
    "        image = train_X[random_idx]\n",
    "        label = train_y[random_idx]\n",
    "        \n",
    "        # Display the image in grayscale\n",
    "        plt.subplot(1, num_images, i+1)  # 1 row, 5 columns\n",
    "        plt.imshow(image, cmap='gray')\n",
    "        plt.title(f'Label: {label}')\n",
    "        plt.axis('off')\n",
    "    \n",
    "    # Show all the images at once\n",
    "    plt.show()\n",
    "\n",
    "display_random_images(train_X, train_y, num_images=5)\n",
    "#TODO Code to display 5 random handritten images from train_X and corresponting labels from train_y"
   ]
  },
  {
   "cell_type": "markdown",
   "id": "580fd94a-370c-468b-ba0f-01c2506d4810",
   "metadata": {
    "deletable": false,
    "editable": false
   },
   "source": [
    "**Q2.** Given two digits $d_1$ and $d_2$, both between $0$ and $9$, in the following cell fill in the function body to extract all the samples corresponding to $d_1$ or $d_2$ only, from the dataset $X$ and labels $y$. You can use the labels $y$ to filter the dataset. Assume that the $i$th image $X[i]$ in $X$ is given by $y[i]$. The function should return the extracted samples $X_{extracted}$ and corresponding labels $y_{extracted}$. Avoid using for loops as much as possible, infact you do not need any for loops. numpy.where function should be useful."
   ]
  },
  {
   "cell_type": "code",
   "execution_count": 4,
   "id": "8cd468f8-f28e-405d-aa0a-ac97470615f2",
   "metadata": {},
   "outputs": [
    {
     "data": {
      "image/png": "[encoded data removed]",
      "text/plain": [
       "<Figure size 1000x500 with 5 Axes>"
      ]
     },
     "metadata": {},
     "output_type": "display_data"
    }
   ],
   "source": [
    "def extract_digits(X, y, d1, d2):\n",
    "\n",
    "    assert d1 in range(0, 10), \"d1 should be a number between 0 and 9 inclusive\"\n",
    "    assert d2 in range(0, 10), \"d2 should be a number between 0 and 9 inclusive\"\n",
    "    \n",
    "    #TODO\n",
    "    indices = np.where((y == d1) | (y == d2))[0]\n",
    "    \n",
    "    # Extract the samples and labels using the indices\n",
    "    X_extracted = X[indices]\n",
    "    y_extracted = y[indices]\n",
    "\n",
    "    return (X_extracted, y_extracted)\n",
    "\n",
    "\n",
    "d1, d2 = 5, 8\n",
    "X_extracted, y_extracted = extract_digits(train_X, train_y, d1, d2)\n",
    "display_random_images(X_extracted, y_extracted, num_images=5)"
   ]
  },
  {
   "attachments": {},
   "cell_type": "markdown",
   "id": "29123736-f5a7-4981-afd8-cdb69bae3f7d",
   "metadata": {
    "deletable": false,
    "editable": false
   },
   "source": [
    "**Q3.** Both the training dataset train_X and test_y is a 3 dimensional numpy array, each image occupies 2 dimensions. For convenience of processing data we usually comvert each $28 \\times 28$ image matrix to a vector with $784$ entries. We call this process **vectorize images**.\n",
    "\n",
    "Once we vectorize the images, the vectorized data set would be structured as follows: $i$th row will correspond to a single image and $j$th column will correspond to the $j$th pixel value of each vectorized image. However going along with the convention we discussed in the lecture, the input to the MLP model will require that the columns correspond to individual images. Hence we also require a transpose of the vectorized results.\n",
    "\n",
    "The pixel values in the images will range from $0$ to $255$. Normalize the pixel values between $0$ and $1$, by dividing each pixel value of each image by the maximum pixel value of that image. Simply divide each column of the resulting matrix above by the max of each column. \n",
    "\n",
    "<center><img src=\"https://encrypted-tbn0.gstatic.com/images?q=tbn:ANd9GcTdN_8m9FEqjqAB07obTmB6gNc7S2rSoGBYaA&s\"></center>\n",
    "\n",
    "Given a dataset $X$ of size $N \\times 28 \\times 28$, in the following cell fill in the function to do the following in order;\n",
    "1. Vectorize the dataset resulting in dataset of size $N \\times 784$.\n",
    "2. Transpose the vectorized result.\n",
    "3. Normalize the pixel values of each image.\n",
    "4. Finally return the vectorized, transposed and normalized dataset $X_{transformed}$.\n",
    "\n",
    "Again, avoid for loops, functions such as numpy.reshape, numpy.max etc should be useful."
   ]
  },
  {
   "cell_type": "code",
   "execution_count": 5,
   "id": "eb50027a-5a36-4279-9972-a2bf449bef3d",
   "metadata": {},
   "outputs": [],
   "source": [
    "np.set_printoptions(threshold=np.inf)\n",
    "def vectorize_images(X):\n",
    "\n",
    "    X_reshaped = X.reshape(X.shape[0], -1) # Reshaping (N, 28, 28) to (N, 784)\n",
    "    X_transposed = X_reshaped.T\n",
    "    # X_vectorized = X_reshaped.T\n",
    "    column_max = np.max(X_transposed,axis=0)\n",
    "    X_vectorized = X_transposed/column_max\n",
    "    # print(column_max.shape)\n",
    "    # print(column_max)\n",
    "    \n",
    "    #TODO\n",
    "\n",
    "    return(X_vectorized)\n",
    "\n",
    "# X_vectorized = vectorize_images(train_X)\n",
    "# print(X_vectorized.shape) \n",
    "# print(X_vectorized[500])"
   ]
  },
  {
   "cell_type": "markdown",
   "id": "fbc428f8-0eec-4eb2-9df2-53cd924c9c9d",
   "metadata": {
    "deletable": false,
    "editable": false
   },
   "source": [
    "**Q4.** In the following cell write code to;\n",
    "\n",
    "1. Extract images of the digits $d_1 = 1$ and $d_2 = 5$ with their corresponding labels for both the training set (train_X, train_y) and testing set (test_X, test_y) separately.\n",
    "2. Then vectorize the data, tranpose the result and normlize the images.\n",
    "3. Store the results after the final transformations in numpy arrays train_X_1_5, train_y_1_5, test_X_1_5, test_y_1_5\n",
    "4. Our MLP will output only class labels $0$ and $1$ (not $1$ and $5$), so create numpy arrays to store the class labels as follows:\n",
    "   $d_1 = 1$ -> class label = 0 and $d_2 = 5$ -> class label = 1. Store them in the arrays named train_class_1_5, test_class_1_5.\n",
    "\n",
    "Use the above functions you implemented above to complete this task. In addtion, numpy.where could be useful. Avoid for loops as much as possible."
   ]
  },
  {
   "cell_type": "code",
   "execution_count": 6,
   "id": "2d754b0a-06d9-4648-b89d-a963380f64f0",
   "metadata": {},
   "outputs": [
    {
     "name": "stdout",
     "output_type": "stream",
     "text": [
      "(784, 2027)\n",
      "(2027,)\n"
     ]
    }
   ],
   "source": [
    "d1, d2 = 1,5\n",
    "Train_X_1_5, Train_y_1_5 = extract_digits(train_X, train_y, d1, d2)\n",
    "# display_random_images(Train_X_1_5, Train_y_1_5, num_images=5)\n",
    "\n",
    "d1, d2 = 1,5\n",
    "Test_X_1_5, Test_y_1_5 = extract_digits(test_X, test_y, d1, d2)\n",
    "# display_random_images(Test_X_1_5, Test_y_1_5, num_images=5)\n",
    "\n",
    "#################\n",
    "\n",
    "train_X_1_5 = vectorize_images(Train_X_1_5)\n",
    "# print(Train_y_1_5)\n",
    "test_X_1_5 = vectorize_images(Test_X_1_5)\n",
    "# print(Test_y_1_5)\n",
    "print(test_X_1_5.shape)\n",
    "# print(train_X_1_5[500])\n",
    "train_y_1_5 = Train_y_1_5\n",
    "test_y_1_5 = Test_y_1_5\n",
    "train_class_1_5 =  np.where(train_y_1_5 == 1, 0, 1)\n",
    "# print(train_class_1_5.shape)\n",
    "test_class_1_5 = np.where(test_y_1_5 == 1, 0, 1)\n",
    "print(test_class_1_5.shape)"
   ]
  },
  {
   "cell_type": "markdown",
   "id": "8d99382b-43b7-4375-8825-4b7d267b6dac",
   "metadata": {
    "deletable": false,
    "editable": false
   },
   "source": [
    "## Section 2: Implementing MLP from scratch with training algorithms."
   ]
  },
  {
   "cell_type": "markdown",
   "id": "5864b18e-cf2e-4da6-a3df-20b8bd84633f",
   "metadata": {
    "deletable": false,
    "editable": false
   },
   "source": [
    "Now we will implement code to build a customizable MLP model. The hidden layers will have the **Relu activation function** and the final output layer will have **Sigmoid activation function**."
   ]
  },
  {
   "cell_type": "markdown",
   "id": "3247c43d-7e37-4e72-9232-5e01898c39a8",
   "metadata": {
    "deletable": false,
    "editable": false
   },
   "source": [
    "**Q5.** Recall the following about the activation functions:\n",
    "1. Sigmoid activation: $y = \\sigma(z) = \\frac{1}{1 + e^{-z}}$.\n",
    "2. Derivative of Sigmoid: $y' = \\sigma'(z) = \\sigma(z) (1 - \\sigma(z)) = y(1-y)$\n",
    "3. ReLu activation: $y = ReLu(z) = max(0, z)$\n",
    "4. Derivative of ReLu: $y' = ReLu'(z) = \\begin{cases} 0 \\; \\textrm{if } z < 0 \\\\ 1 \\; \\textrm{otherwise} \\end{cases} = \\begin{cases} 0 \\; \\textrm{if } y = 0 \\\\ 1 \\; \\textrm{otherwise} \\end{cases}$\n",
    "\n",
    "In the following cell implement the functions to compute activation functions Sigmoid and ReLu given $z$ and derivatives of the Sigmoid and ReLu activation functions given $y$. Note that the input to the derivative functions is $y$ not $z$.\n",
    "\n",
    "In practice the input will not be just single numbers, but matrices. So functions or derivatives should be applied elementwise on matrices. Again avoid for loops, use the power of numpy arrays - search for numpy's capability of doing elementwise computations.\n",
    "\n",
    "Important: When implementing the sigmoid function make sure you handle overflows due to $e^{-z}$ being too large. To avoid you can choose to set the sigmoid value to 'the certain appropriate value' if $z$ is less than a certain good enough negative threshold. If you do not handle overflows, the entire result will be useless fince the MLP will just output Nan (not a number) for evry input at the end."
   ]
  },
  {
   "cell_type": "code",
   "execution_count": 7,
   "id": "ac42dde5-2b7d-4fc2-a5bc-4d396822e995",
   "metadata": {},
   "outputs": [],
   "source": [
    "def sigmoid(Z):\n",
    "\n",
    "    #TODO\n",
    "    Z = np.clip(Z, -500, 500)\n",
    "    sigma =  1 / (1 + np.exp(-Z))\n",
    "    \n",
    "    return(sigma)\n",
    "\n",
    "def deriv_sigmoid(Y):\n",
    "\n",
    "    #TODO\n",
    "    sigma_prime =  sigmoid(Y) * (1 - sigmoid(Y))\n",
    "    \n",
    "    return(sigma_prime)\n",
    "\n",
    "def ReLu(Z):\n",
    "\n",
    "    #TODO\n",
    "    relu =  np.maximum(0, Z)\n",
    "    \n",
    "    return(relu)\n",
    "\n",
    "def deriv_ReLu(Y):\n",
    "\n",
    "    #TODO\n",
    "    relu_prime =  np.where(Y > 0, 1, 0)\n",
    "    \n",
    "    return(relu_prime)\n"
   ]
  },
  {
   "cell_type": "code",
   "execution_count": 91,
   "id": "5ede2e63-b04d-479f-b8dc-b367e36c6295",
   "metadata": {},
   "outputs": [],
   "source": [
    "# z = np.array([-2, -1, 0, 1, 2])  # Example input\n",
    "\n",
    "# # Sigmoid and its derivative\n",
    "# sigmoid_vals = sigmoid(z)\n",
    "# sigmoid_derivative_vals = deriv_sigmoid(sigmoid_vals)\n",
    "\n",
    "# # ReLU and its derivative\n",
    "# relu_vals = ReLu(z)\n",
    "# relu_derivative_vals = deriv_ReLu(z)\n",
    "\n",
    "# print(\"Sigmoid:\", sigmoid_vals)\n",
    "# print(\"Sigmoid Derivative:\", sigmoid_derivative_vals)\n",
    "# print(\"ReLU:\", relu_vals)\n",
    "# print(\"ReLU Derivative:\", relu_derivative_vals)"
   ]
  },
  {
   "cell_type": "markdown",
   "id": "88ca012e-5c82-4689-8170-28f6110cc9b5",
   "metadata": {},
   "source": [
    "**Q6.** The following piece of code defines a simple MLP architecture as a Python class and subsequent initialization of a MLP model. <font color='blue'>Certain lines of code contains commented line numbers. Write a short sentence for each such line explaining its purpose. Feel free to refer to the lecture notes or any resources to answers these question. In addition, explain what the Y, Z, W variables refer to and their purpose</font>"
   ]
  },
  {
   "cell_type": "code",
   "execution_count": 8,
   "id": "7985eb85-6a89-4d01-b6cf-d58cb8b4d23f",
   "metadata": {},
   "outputs": [],
   "source": [
    "class NNet:\n",
    "    def __init__(self, input_size = 784, output_size = 1, batch_size = 1000, hidden_layers = [500, 250, 50]):\n",
    "        self.Y = []\n",
    "        self.Z = []\n",
    "        self.W = []\n",
    "        self.input_size = input_size\n",
    "        self.output_size = output_size\n",
    "        self.batch_size = batch_size\n",
    "        self.hidden_layers = hidden_layers\n",
    "\n",
    "        layers = [input_size] + hidden_layers + [output_size]\n",
    "        L = len(hidden_layers) + 1\n",
    "    \n",
    "        for i in range(1, L + 1):\n",
    "            self.Y.append(np.zeros((layers[i], batch_size)))                        #line1\n",
    "            self.Z.append(np.zeros((layers[i], batch_size)))                        #Line2\n",
    "            self.W.append(2*(np.random.rand(layers[i], layers[i-1] + 1) - 0.5))     #Line3"
   ]
  },
  {
   "cell_type": "code",
   "execution_count": 9,
   "id": "9e988df3-6d9c-4ea9-a921-10b173945fcf",
   "metadata": {},
   "outputs": [
    {
     "name": "stdout",
     "output_type": "stream",
     "text": [
      "4\n"
     ]
    }
   ],
   "source": [
    "# print(2*(np.random.rand(5, 6 + 1)-0.5))\n",
    "nnet = NNet()\n",
    "# print(\"Weights for the first hidden layer:\")\n",
    "print(len(nnet.W))\n",
    "# print(nnet.W[3])"
   ]
  },
  {
   "cell_type": "markdown",
   "id": "7854a0e4-9b83-4f52-8b59-3e64af141209",
   "metadata": {},
   "source": [
    "**Answers** (to write answers edit this cell)\n",
    "\n",
    "(i) What does the Y, Z, W variables refer to and their purpose?\n",
    "\n",
    "<font color='blue'>**Y**: Stores the activations for each layer after applying the activation function.</font>\n",
    "\n",
    "<font color='blue'>**Z**: Stores the pre-activation values (linear combinations of inputs and weights).</font>\n",
    "\n",
    "<font color='blue'>**W**: Stores the weights (including biases) between the layers.</font>\n",
    "\n",
    "(ii) Line1: Explanation\n",
    "\n",
    "<font color='blue'>This line initializes a matrix for the activations $Y$ of each layer with dimensions (number of neurons in the current layer, batch_size). It is initialized to zeros and will later hold the activation values after applying the activation function.</font>\n",
    "\n",
    "(iii) Line2: Explanation\n",
    "\n",
    "<font color='blue'>This line initializes a matrix for the pre-activation values $Z$ of each layer, with the same dimensions (number of neurons in the current layer, batch_size). These pre-activations will hold the linear combinations of inputs before applying the activation function.</font>\n",
    "\n",
    "(iv) Line3: Explanation\n",
    "\n",
    "<font color='blue'>This line initializes the weight matrix $W$ for each layer. The weights are randomly generated using np.random.rand and scaled to be between -1 and 1 by subtracting 0.5 and multiplying by 2. The dimensions of the weight matrix are (number of neurons in the current layer, number of neurons in the previous layer + 1) to account for the bias term (hence +1). These weights will be used to compute the linear combination of inputs and biases for each neuron in the layer.</font>  "
   ]
  },
  {
   "cell_type": "markdown",
   "id": "7ee71406-c0f7-4114-9d9c-bf25fe6d208a",
   "metadata": {
    "deletable": false,
    "editable": false
   },
   "source": [
    "**Q7.** Now we will implement the feedforward algorithm. Recall from the lectures that for each layer $l$ there is input $Y^{(l-1)}$ from the previous layer if $l > 1$ and input data $X$ if $l = 1$. Then we compute $Z^{(l)}$ using the weight matrix $W^{(l)}$ as follows from matrix multiplication:\n",
    "\n",
    "$Z^{(l)} = W^{(l)} Y^{(l-1)}$\n",
    "\n",
    "Make sure that during multiplication you add an additional row of one's to $Y^{(l-1)}$ to accommodate the bias term. However, the rows of ones should not permanently remain on $Y^{(l-1)}$. <font color='blue'>Explain what the bias term is and how adding a row of one's help with the bias terms.</font> During definition above the weight matrices are initialised to afford this extra bias term, so no change to either $Z^{(l)}$ or $W^{(l)}$ is needed.\n",
    "\n",
    "Next compute $Y^{(l)}$, the output of layer $l$ by activation through sigmoid.\n",
    "\n",
    "$Y^{(l)} = \\sigma(Z^{(l)})$\n",
    "\n",
    "The implemented feedforward algorithm should take in a NNet model and an input matrix $X$ and output the modified MLP model - the $Y$'s and $Z$'s computed should be stored in the model for the backpropagation algorithm.\n",
    "\n",
    "As usual avoid for loops as much as possible, use the power of numpy. However, you may use a for loop to iterate through the layers of the model."
   ]
  },
  {
   "cell_type": "code",
   "execution_count": 10,
   "id": "c41a778a-0d06-4295-ac80-3ea6bfbad9f0",
   "metadata": {},
   "outputs": [],
   "source": [
    "def feedforward(model, X):\n",
    "\n",
    "    #TODO\n",
    "    # Reset stored values in model\n",
    "    # print(len(model.W))\n",
    "    model.Y = []  # Store the activations Y\n",
    "    model.Z = []  # Store the pre-activation Z\n",
    "\n",
    "    # Add input layer to Y\n",
    "    # X = X.T  # Transpose to match (input_size, batch_size)\n",
    "    model.Y.append(X)  # The first layer input (X)\n",
    "\n",
    "    # Feedforward through layers\n",
    "    \n",
    "    for i in range(len(model.W)):\n",
    "        # Add a row of ones for the bias term\n",
    "        Y_prev = model.Y[-1]  # Get activations from the previous layer\n",
    "        Y_prev_with_bias = np.vstack([np.ones((1, Y_prev.shape[1])), Y_prev])\n",
    "\n",
    "        # Compute Z = W*Y (weighted sum with bias)\n",
    "        Z_curr = np.dot(model.W[i], Y_prev_with_bias)\n",
    "        model.Z.append(Z_curr)  # Store pre-activation values Z\n",
    "\n",
    "        if i == len(model.W) - 1:\n",
    "            # Final layer: use Sigmoid activation\n",
    "            Y_curr = sigmoid(Z_curr)\n",
    "        else:\n",
    "            # Hidden layers: use ReLU activation\n",
    "            Y_curr = ReLu(Z_curr)\n",
    "        \n",
    "        model.Y.append(Y_curr)  # Store activations Y\n",
    "        \n",
    "    return(model)"
   ]
  },
  {
   "cell_type": "code",
   "execution_count": 34,
   "id": "138ff574-f70d-4eb2-8063-27e8d53d5b10",
   "metadata": {},
   "outputs": [],
   "source": [
    "# nnet = NNet()\n",
    "# model = feedforward(nnet, train_class_1_5)\n",
    "# model = NNet(input_size = 784, output_size = 1, batch_size = 1000, hidden_layers = [500, 250, 50])\n",
    "# model = feedforward(model, train_class_1_5)\n",
    "\n",
    "# train_class_1_5 = np.random.rand(1000, 784)  # 1000 images of size 28x28 (flattened to 784)\n",
    "\n",
    "# Perform feedforward\n",
    "# print(train_class_1_5.shape)\n",
    "# model = feedforward(model, train_class_1_5)\n",
    "\n",
    "# # Check outputs (Z and Y values for each layer)\n",
    "# for i, (Z, Y) in enumerate(zip(model.Z, model.Y[1:]), start=1):\n",
    "#     print(f\"Layer {i}:\")\n",
    "#     print(f\"Z (pre-activation) shape: {Z.shape}\")\n",
    "#     print(f\"Y (activation) shape: {Y.shape}\\n\")"
   ]
  },
  {
   "cell_type": "markdown",
   "id": "cbeea889-4e78-4bfc-b126-6d5d11ea571e",
   "metadata": {
    "deletable": false,
    "editable": false
   },
   "source": [
    "**Answer** (to write answers edit this cell)\n",
    "\n",
    "Explain what the bias term is and how adding a row of one's help with the bias terms."
   ]
  },
  {
   "cell_type": "markdown",
   "id": "764f3975-609a-4e63-a1cf-71b1e7b2c5be",
   "metadata": {},
   "source": [
    "<font color='blue'>To incorporate the bias term during matrix multiplication, we typically augment the input matrix by adding a row of ones. This row will multiply with the bias component of the weight matrix, allowing the bias to be included in the calculation without needing a separate operation.</font> \n",
    "\n",
    "<font color='blue'>Adding a row of ones ensures that the bias term is always added during each layer’s transformation without altering the dimension of the input vectors. It simplifies the implementation by making sure that the bias is accounted for during matrix multiplication with the weights.</font> "
   ]
  },
  {
   "cell_type": "code",
   "execution_count": 35,
   "id": "1a1643fc-4e76-4bf5-86b0-c2f7cd86acb3",
   "metadata": {},
   "outputs": [],
   "source": [
    "# print(np.random.randint(0, 2, (10, 1)))"
   ]
  },
  {
   "cell_type": "markdown",
   "id": "f5b4c037-df9a-49eb-9519-51b86555b33c",
   "metadata": {
    "deletable": false,
    "editable": false
   },
   "source": [
    "**Q8.** Now we will implement the backpropagation algorithm. The cost function $C$ at the end is given by the square loss.\n",
    "\n",
    "$C = \\frac{1}{2} ||Y^{(L)} - Y||^{2}$, where $Y^{(L)}$ is the final output vector of the feedforward algorithm and $Y$ is the actual label vector associated with the input $X$.\n",
    "\n",
    "At each layer $l = 1, 2, \\cdots, L$ we compute the following (note that the gradients are matrices with the same dimensions as the variable to which we derivating with respect to):\n",
    "\n",
    "1. Gradient of $C$ with respect to $Z^{(l)}$ as <br> $\\frac{\\partial C}{\\partial Z^{(l)}} = deriv(A^{(l)}(Z^{(l)})) \\odot \\frac{\\partial C}{\\partial Y^{(L)}} $, <br> where $A^{(l)}$ is the activation function of the $l$th layer, and we use the derivative of that here. The $\\odot$ refers to the elementwise multiplication.\n",
    "\n",
    "2. Gradient of $C$ with respect to $W^{(l)}$ as <br> $\\frac{\\partial C}{\\partial W^{(l)}} = \\frac{\\partial C}{\\partial Z^{(l)}} (Y^{(l-1)})^{T}$ <br> this is entirely matrix multiplication.\n",
    "\n",
    "3. Gradient of $C$ with respect to $Y^{(l-1)}$ as <br> $\\frac{\\partial C}{\\partial Y^{(l-1)}} = (W^{(l)})^{T} \\frac{\\partial C}{\\partial Z^{(l)}}$ <br> this is also entirely matrix multiplication.\n",
    "\n",
    "4. Update weights by: <br> $W^{(l)} \\leftarrow W^{(l)} - \\eta \\frac{\\partial C}{\\partial W^{(l)}}$, <br> where $\\eta > 0$ is the learning rate.\n",
    "\n",
    "The loss derivative (the gradient of $C$ with respect to $Y^{(L)}$) at the last layer is given by:\n",
    "\n",
    "$\\frac{\\partial C}{\\partial Y^{(L)}} = Y^{(L)} - Y$\n",
    "\n",
    "By convention we consider $Y^{(0)} = X$, the input data.\n",
    "\n",
    "Based on the backpropagation algorithm implement the backpropagation method in the following cell. Remember to temporarily add a row of ones to $Y^{(l-1)}$ when computing $\\frac{\\partial C}{\\partial W^{(l)}}$ as we discussed back in the feedforward algorithm. Make sure you avoid for loops as much as possible.\n",
    "\n",
    "The function takes in a NNet model, input data $X$ and the corresponding class labels $Y$. learning rate can be set as desired."
   ]
  },
  {
   "cell_type": "code",
   "execution_count": 11,
   "id": "d958af3f-5a72-462d-844f-aba8ce5b03c8",
   "metadata": {},
   "outputs": [],
   "source": [
    "def backpropagation(model, X, Y, eta = 0.01):\n",
    "\n",
    "    # Initialize gradients for weights\n",
    "    grad_W = [np.zeros_like(W) for W in model.W]\n",
    "    \n",
    "    # Step 1: Compute the error at the output layer (delta^L)\n",
    "    Y_pred = model.Y[-1]  # Output of the final layer (after Sigmoid)\n",
    "    delta_L = (Y_pred - Y.T) * deriv_sigmoid(model.Z[-1])  # Gradient at the output layer (sigmoid's derivative)\n",
    "    \n",
    "    # Store the gradient for the last layer (output layer)\n",
    "    Y_prev = model.Y[-2]  # Activations from the previous (hidden) layer\n",
    "    Y_prev_with_bias = np.vstack([np.ones((1, Y_prev.shape[1])), Y_prev])  # Add bias to activations\n",
    "    grad_W[-1] = np.dot(delta_L, Y_prev_with_bias.T)  # Gradient for the final layer's weights\n",
    "    \n",
    "    # Step 2: Backpropagate through the hidden layers\n",
    "    delta = delta_L  # Initialize delta for the loop\n",
    "    for l in range(len(model.W) - 2, -1, -1):  # Start from second-last layer to the first\n",
    "        W_no_bias = model.W[l + 1][:, 1:]  # Remove bias from next layer's weights for backprop\n",
    "        delta = np.dot(W_no_bias.T, delta) * deriv_ReLu(model.Z[l])  # Gradient at hidden layer (ReLU's derivative)\n",
    "\n",
    "        # Store the gradient for the current layer's weights\n",
    "        Y_prev = model.Y[l]  # Activations from the previous layer (or input if first hidden layer)\n",
    "        Y_prev_with_bias = np.vstack([np.ones((1, Y_prev.shape[1])), Y_prev])  # Add bias to activations\n",
    "        grad_W[l] = np.dot(delta, Y_prev_with_bias.T)  # Gradient for the current layer's weights\n",
    "    \n",
    "    # Step 3: Update weights using gradient descent\n",
    "    for l in range(len(model.W)):\n",
    "        model.W[l] -= eta * grad_W[l]  # Update weights with gradient and learning rate\n",
    "    \n",
    "    return model"
   ]
  },
  {
   "cell_type": "code",
   "execution_count": 15,
   "id": "4fbfe709-fcd3-4a9b-b496-06d33f931d77",
   "metadata": {},
   "outputs": [],
   "source": [
    "# model = NNet(input_size = 784, output_size = 1, batch_size = 1000, hidden_layers = [500, 250, 50])\n",
    "# train_class_1_5 = np.random.rand(1000, 784)  # 1000 images of size 28x28 (flattened to 784)\n",
    "# train_labels_1_5 = np.random.randint(0, 2, (1000, 1))  # Random binary labels\n",
    "# # print(model.W[3])\n",
    "# # Perform backpropagation\n",
    "# model = backpropagation(model, train_class_1_5, train_labels_1_5, eta=0.01)\n",
    "\n"
   ]
  },
  {
   "cell_type": "markdown",
   "id": "a2fad553-1ba4-4bee-b04b-249b9e04c6a9",
   "metadata": {
    "deletable": false,
    "editable": false
   },
   "source": [
    "**Q9.** Now implement the training algorithm.\n",
    "\n",
    "The training method takes in training data $X$, actual label $Y$, number of epochs, batch_size, learning rate $\\eta > 0$. The training will happen in epochs. For each epoch, permute the data columns of both $X$ and $Y$, then divide both $X$ and $Y$ into mini batches each with the given batch size. Then run the feedforward and backpropagation for each such batch iteratively.\n",
    "\n",
    "At the end of each iteration, keep trach of the cost $C$ and the $l_2$-norm of change in each weight matrix $W^{(l)}$.\n",
    "\n",
    "At the end of the last epoch, plot the variation cost $C$ and change in weight matrices. Then return the trained model.\n",
    "\n"
   ]
  },
  {
   "cell_type": "code",
   "execution_count": 12,
   "id": "fa4070ea-4a6b-4cba-b882-fa2ea79a9247",
   "metadata": {},
   "outputs": [],
   "source": [
    "def train_NNet(X, Y, model , epochs = 20, batch_size = 1000, eta = 0.01):\n",
    "\n",
    "    #TODO\n",
    "    n_samples = X.shape[1] \n",
    "    cost_C = [] \n",
    "    weight_changes = [] \n",
    "    hidden_layers=model.hidden_layers\n",
    "    for epoch in range(epochs):\n",
    "        \n",
    "        # Shuffling the data\n",
    "        indices = np.random.permutation(n_samples)\n",
    "        X_shuffled = X[:, indices]\n",
    "        Y_shuffled = Y[indices]\n",
    "        \n",
    "        for i in range(0, n_samples, batch_size):\n",
    "            X_batch = X_shuffled[:, i:i+batch_size]\n",
    "            Y_batch = Y_shuffled[i:i+batch_size] \n",
    "            \n",
    "            # feddforward\n",
    "            model = feedforward(model, X_batch)\n",
    "            \n",
    "            cost = 0.5 * np.linalg.norm(model.Y[-1] - Y_batch) ** 2\n",
    "            cost_C.append(cost)\n",
    "            \n",
    "            # Backpropagation\n",
    "            model = backpropagation(model, X_batch, Y_batch, eta)\n",
    "            \n",
    "            weight_norm = np.linalg.norm([np.linalg.norm(w) for w in model.W])\n",
    "            weight_changes.append(weight_norm)\n",
    "        \n",
    "        print(f'Epoch {epoch+1}/{epochs}, Cost: {cost_C[-1]}')\n",
    "\n",
    "    #Ploting\n",
    "    plt.figure(figsize=(10, 4))\n",
    "    plt.subplot(1, 2, 1)\n",
    "    plt.plot(cost_C, label='Cost')\n",
    "    plt.xlabel('Iterations')\n",
    "    plt.ylabel('Cost')\n",
    "    plt.title('Cost over time',pad= 20)\n",
    "    plt.legend()\n",
    "\n",
    "    \n",
    "    plt.subplot(1, 2, 2)\n",
    "    plt.plot(weight_changes, label='Weight Changes')\n",
    "    plt.xlabel('Iterations')\n",
    "    plt.ylabel('L2 norm of weight changes')\n",
    "    plt.title('L2 Norm of Weight Changes over time',pad=20)\n",
    "    plt.legend()\n",
    "    \n",
    "    plt.suptitle(f'For the parameters : Epochs={epoch} , Batch Size={batch_size} , eta={eta} , hidden_layers={hidden_layers}', fontsize=12,y=1.08)\n",
    "    \n",
    "    plt.show()\n",
    "\n",
    "\n",
    "    return(model)"
   ]
  },
  {
   "cell_type": "code",
   "execution_count": 150,
   "id": "54b38201-f260-4750-af77-f509615924a6",
   "metadata": {},
   "outputs": [
    {
     "name": "stdout",
     "output_type": "stream",
     "text": [
      "Epoch 1/50, Cost: 0.5\n",
      "Epoch 2/50, Cost: 0.5\n",
      "Epoch 3/50, Cost: 1.4999999999999998\n",
      "Epoch 4/50, Cost: 1.0000000000000002\n",
      "Epoch 5/50, Cost: 1.0000000000000002\n",
      "Epoch 6/50, Cost: 1.0000000000000002\n",
      "Epoch 7/50, Cost: 1.0000000000000002\n",
      "Epoch 8/50, Cost: 1.0000000000000002\n",
      "Epoch 9/50, Cost: 1.0000000000000002\n",
      "Epoch 10/50, Cost: 0.0\n",
      "Epoch 11/50, Cost: 0.5\n",
      "Epoch 12/50, Cost: 1.0000000000000002\n",
      "Epoch 13/50, Cost: 1.4999999999999998\n",
      "Epoch 14/50, Cost: 0.5\n",
      "Epoch 15/50, Cost: 1.0000000000000002\n",
      "Epoch 16/50, Cost: 0.5\n",
      "Epoch 17/50, Cost: 1.4999999999999998\n",
      "Epoch 18/50, Cost: 1.4999999999999998\n",
      "Epoch 19/50, Cost: 0.5\n",
      "Epoch 20/50, Cost: 1.4999999999999998\n",
      "Epoch 21/50, Cost: 0.0\n",
      "Epoch 22/50, Cost: 0.5\n",
      "Epoch 23/50, Cost: 0.5\n",
      "Epoch 24/50, Cost: 1.0000000000000002\n",
      "Epoch 25/50, Cost: 0.0\n",
      "Epoch 26/50, Cost: 0.0\n",
      "Epoch 27/50, Cost: 1.4999999999999998\n",
      "Epoch 28/50, Cost: 1.0000000000000002\n",
      "Epoch 29/50, Cost: 0.5\n",
      "Epoch 30/50, Cost: 1.0000000000000002\n",
      "Epoch 31/50, Cost: 0.5\n",
      "Epoch 32/50, Cost: 1.0000000000000002\n",
      "Epoch 33/50, Cost: 1.4999999999999998\n",
      "Epoch 34/50, Cost: 0.5\n",
      "Epoch 35/50, Cost: 1.0000000000000002\n",
      "Epoch 36/50, Cost: 1.4999999999999998\n",
      "Epoch 37/50, Cost: 1.0000000000000002\n",
      "Epoch 38/50, Cost: 1.0000000000000002\n",
      "Epoch 39/50, Cost: 1.0000000000000002\n",
      "Epoch 40/50, Cost: 0.5\n",
      "Epoch 41/50, Cost: 0.5\n",
      "Epoch 42/50, Cost: 1.0000000000000002\n",
      "Epoch 43/50, Cost: 1.0000000000000002\n",
      "Epoch 44/50, Cost: 0.5\n",
      "Epoch 45/50, Cost: 0.5\n",
      "Epoch 46/50, Cost: 0.5\n",
      "Epoch 47/50, Cost: 0.5\n",
      "Epoch 48/50, Cost: 1.0000000000000002\n",
      "Epoch 49/50, Cost: 1.0000000000000002\n",
      "Epoch 50/50, Cost: 0.5\n"
     ]
    },
    {
     "data": {
      "image/png": "[encoded data removed]",
      "text/plain": [
       "<Figure size 1000x400 with 2 Axes>"
      ]
     },
     "metadata": {},
     "output_type": "display_data"
    }
   ],
   "source": [
    "batch_size = 40\n",
    "hidden_layers = [600,200,20,5]\n",
    "epochs = 50\n",
    "eta = 0.001\n",
    "\n",
    "model = NNet(input_size=784, output_size=1, batch_size=batch_size, hidden_layers=hidden_layers)\n",
    "# # ss = deriv_sigmoid(model.Z[0])\n",
    "# # print(ss.shape)\n",
    "trained_model = train_NNet(train_X_1_5, train_class_1_5, model=model, epochs=epochs, batch_size=batch_size, eta=eta)"
   ]
  },
  {
   "cell_type": "markdown",
   "id": "2cd20299-a129-4d1d-a406-84e1a4dba621",
   "metadata": {
    "deletable": false,
    "editable": false
   },
   "source": [
    "## Section 3: Evaluation using test data"
   ]
  },
  {
   "cell_type": "markdown",
   "id": "d954c37c-f1b7-4e87-aedd-cf9e7624f612",
   "metadata": {
    "deletable": false,
    "editable": false
   },
   "source": [
    "The following function will evaluate then return an accuracy score and the predicted labels for your model. Do not change anything here."
   ]
  },
  {
   "cell_type": "code",
   "execution_count": 142,
   "id": "977dcbb8-1b5c-4f49-89f6-9bd90833957b",
   "metadata": {},
   "outputs": [],
   "source": [
    "def test_model(test_data, test_labels, model, d1, d2):\n",
    "    \n",
    "    L = len(model.hidden_layers) + 1\n",
    "    \n",
    "    Y = test_data\n",
    "    for i in range(L):\n",
    "        Z = np.matmul(model.W[i], np.append(Y, np.array([np.ones(Y.shape[1])]), axis = 0))\n",
    "        if i < L - 1:\n",
    "            Y = ReLu(Z)\n",
    "        else:\n",
    "            Y = sigmoid(Z)\n",
    "    \n",
    "    Y = Y[0]\n",
    "    Y = np.where(Y >= 0.5, 1, 0)\n",
    "    Y_predicted = np.where(Y == 0, d1, d2)\n",
    "\n",
    "    acc = accuracy_score(test_labels, Y_predicted)\n",
    "\n",
    "    return(acc, Y_predicted)\n",
    "\n",
    "    "
   ]
  },
  {
   "cell_type": "code",
   "execution_count": 140,
   "id": "e8ba6baa-2469-4028-b45f-2f615bd86125",
   "metadata": {},
   "outputs": [],
   "source": [
    "# # batch_sizes = [1000,500,100,50]\n",
    "# # etas = [0.001,0.01,0.05,0.1]\n",
    "# hidden_layers = [[500, 100] , [500,250,50] ,[600,200,20,5]]\n",
    "# epochs =[20,50,75]\n",
    "\n",
    "\n",
    "# batch_sizes = [40]\n",
    "# etas = [0.001]\n",
    "# # hidden_layers_list = [[600,200,20,5]]\n",
    "# # epochs =[20]\n",
    "\n",
    "\n",
    "# best_accuracy = 0\n",
    "# best_model = None\n",
    "# best_hyperparams = {}\n",
    "\n",
    "# for batch_size in batch_sizes:\n",
    "#     for eta in etas:\n",
    "#         for hidden_layers in hidden_layers:\n",
    "#             for epoch in epochs:\n",
    "#                 model = NNet(input_size=784, output_size=1, batch_size=batch_size, hidden_layers=hidden_layers)\n",
    "#                 trained_model = train_NNet(train_X_1_5, train_class_1_5, model=model, epochs=epoch, batch_size=batch_size, eta=eta)\n",
    "#                 accuracy,Y_predict = test_model(test_X_1_5,test_y_1_5,trained_model,1,5)\n",
    "\n",
    "#                 if accuracy > best_accuracy:\n",
    "#                     best_accuracy = accuracy\n",
    "#                     best_model = trained_model\n",
    "#                     best_hyperparams = {'batch_size': batch_size, 'eta': eta, 'hidden_layers': hidden_layers,'epochs':epoch}\n",
    "                    \n",
    "#                 print(f\"Batch size: {batch_size}, Learning rate: {eta}, Hidden Layers: {hidden_layers}, epochs:{epoch} , Accuracy: {accuracy:.4f}\")\n",
    "#                 print(f\"Best Hyperparameters: {best_hyperparams}, Best Accuracy: {best_accuracy:.4f}\")\n",
    "\n",
    "# print(f\"Best Hyperparameters: {best_hyperparams}, Best Accuracy: {best_accuracy:.4f}\")\n"
   ]
  },
  {
   "cell_type": "markdown",
   "id": "ab6f1db0-8f5f-442c-84f1-578c77b99537",
   "metadata": {
    "deletable": false,
    "editable": false
   },
   "source": [
    "**Q10.** Use this test_model function to evaluate your model with the $1$ and $5$ digits. An accuracy $>= 99%$ is achievable. Test with different batch sizes, $\\eta$ values and hidden layers. Find which of those hyperparameters gives the best test accuracy. <font color='blue'>Document the hyperparameter values that gives the best testing accuracy and that best accuracy. Plot a confusion matrix and comment on your observations with reasons. Also, look into the nature of the plots that result fom the training procedure, see how they vary with the hyperparameters and provide your ideas on the observations. Then do the same with a few other pairs of digits $d_1, d_2$. Especially, try $d_1 = 1, d_2 = 7$. Comment on your observations and explain possible reasons</font>."
   ]
  },
  {
   "cell_type": "code",
   "execution_count": 151,
   "id": "b0561199-92cc-4344-8509-c8ab798c33ab",
   "metadata": {},
   "outputs": [
    {
     "name": "stdout",
     "output_type": "stream",
     "text": [
      "(2027,)\n",
      "0.7789837197829305 (2027,)\n"
     ]
    }
   ],
   "source": [
    "Acc,Ypradict = test_model(test_X_1_5, test_y_1_5, trained_model, 1,5)\n",
    "print(test_y_1_5.shape)\n",
    "print(Acc,Ypradict.shape)"
   ]
  },
  {
   "cell_type": "markdown",
   "id": "56c0234e-6168-4dea-bce3-a844bf6b2cc6",
   "metadata": {},
   "source": [
    "Best Hyperparameters: \n",
    "\n",
    "batch_size: 40,\n",
    "\n",
    "eta: 0.001, \n",
    "\n",
    "hidden_layers: [600,200,20,5]\n",
    "\n",
    "epochs : 50\n",
    "\n",
    "Best Accuracy: 0.7789"
   ]
  },
  {
   "cell_type": "code",
   "execution_count": 152,
   "id": "6ecbb07e-febd-46b9-befe-32e4f2b9ddeb",
   "metadata": {},
   "outputs": [
    {
     "data": {
      "image/png": "[encoded data removed]",
      "text/plain": [
       "<Figure size 800x600 with 2 Axes>"
      ]
     },
     "metadata": {},
     "output_type": "display_data"
    }
   ],
   "source": [
    "import numpy as np\n",
    "import seaborn as sns\n",
    "import matplotlib.pyplot as plt\n",
    "from sklearn.metrics import confusion_matrix\n",
    "\n",
    "def plot_confusion_matrix(y_true, y_pred, class_names):\n",
    "    \"\"\"\n",
    "    Plots a confusion matrix using Seaborn's heatmap.\n",
    "    \n",
    "    Args:\n",
    "    - y_true: True class labels.\n",
    "    - y_pred: Predicted class labels.\n",
    "    - class_names: List of class names (strings) for the plot.\n",
    "    \"\"\"\n",
    "    # Compute the confusion matrix\n",
    "    cm = confusion_matrix(y_true, y_pred)\n",
    "    \n",
    "    # Plot using Seaborn\n",
    "    plt.figure(figsize=(8, 6))\n",
    "    sns.heatmap(cm, annot=True, fmt='g', cmap='Blues', xticklabels=class_names, yticklabels=class_names)\n",
    "    \n",
    "    # Label the axes\n",
    "    plt.xlabel('Predicted')\n",
    "    plt.ylabel('True')\n",
    "    plt.title('Confusion Matrix')\n",
    "    \n",
    "    # Show the plot\n",
    "    plt.show()\n",
    "\n",
    "# Example usage with binary classification\n",
    "# Assume y_true and y_pred are the true and predicted class labels\n",
    "y_true = np.array([0, 1, 1, 0, 0, 0, 1])  # Replace with actual labels\n",
    "y_pred = np.array([0, 1, 0, 0, 1, 0, 1])  # Replace with your model's predictions\n",
    "\n",
    "# Plot confusion matrix\n",
    "class_names = ['Class 0', 'Class 1']\n",
    "plot_confusion_matrix(test_y_1_5, Ypradict, class_names)\n"
   ]
  },
  {
   "cell_type": "markdown",
   "id": "789c3abc-a993-49ce-89bf-fe8b924915d2",
   "metadata": {},
   "source": [
    "<font color='blue'>Based on the confusion matrix, the majority of predictions are correctly placed in the \"True Class 0, Predicted Class 0\" and \"True Class 1, Predicted Class 1\" regions, indicating that the model is performing well. A small number of misclassifications are present in the \"True Class 0, Predicted Class 1\" and \"True Class 1, Predicted Class 0\" regions, but these are relatively minor compared to the correctly predicted cases.</font>\n",
    "\n",
    "<font color='blue'>This suggests that the model has learned to distinguish between the two classes effectively. The low number of misclassifications indicates good accuracy, but further tuning of hyperparameters (e.g., learning rate, number of hidden layers) could improve performance and reduce these errors further</font>."
   ]
  },
  {
   "cell_type": "code",
   "execution_count": 153,
   "id": "1a5841a4-994a-47e5-a910-a14e322826fe",
   "metadata": {},
   "outputs": [
    {
     "name": "stdout",
     "output_type": "stream",
     "text": [
      "0.5714285714285714 [1 7 1 1 1 7 1 1 1 1 1 1 1 1 1 1 1 1 1 1 1 1 1 1 1 7 1 1 1 1 7 1 7 1 1 1 1\n",
      " 1 1 7 1 1 1 1 1 1 1 1 7 1 1 1 1 1 1 1 1 1 1 1 7 1 1 7 1 1 1 1 1 1 1 1 1 1\n",
      " 1 1 1 1 1 1 1 1 1 1 1 1 1 1 1 1 7 7 1 1 1 1 1 1 1 7 1 1 1 1 1 1 1 1 1 1 1\n",
      " 1 1 1 1 1 1 1 1 1 1 1 1 1 7 1 1 7 1 1 1 1 1 1 1 1 1 1 7 1 1 1 1 1 1 1 1 1\n",
      " 1 1 1 7 1 1 1 1 1 1 1 1 7 1 1 1 1 1 1 1 1 7 1 1 1 1 1 1 1 1 7 1 1 1 1 1 1\n",
      " 1 1 1 1 7 7 7 1 1 7 1 1 1 1 1 1 1 7 1 1 1 1 1 1 1 1 1 1 1 1 1 1 7 1 1 1 1\n",
      " 1 1 1 1 1 1 1 1 1 1 7 1 1 1 1 1 1 1 1 1 1 1 1 7 1 1 1 1 1 1 1 7 1 1 1 1 1\n",
      " 1 1 1 7 1 1 1 1 1 7 1 1 7 1 1 1 1 1 1 1 1 1 1 1 1 1 7 1 1 1 1 1 1 1 1 1 1\n",
      " 1 7 1 1 1 1 1 1 7 1 1 1 1 1 1 1 1 1 1 1 1 1 1 1 1 1 1 1 1 1 1 1 1 7 1 1 1\n",
      " 1 7 1 1 7 1 1 1 1 1 1 1 1 1 1 1 1 1 1 1 1 1 1 1 1 1 1 1 1 1 1 1 1 1 1 1 1\n",
      " 1 1 7 1 1 1 1 1 1 1 1 1 1 1 1 1 7 1 1 1 7 1 7 1 1 1 7 1 1 1 1 1 1 1 1 1 1\n",
      " 1 7 1 1 1 7 1 7 1 1 1 1 1 1 1 1 1 1 1 1 1 1 7 1 1 1 1 7 1 1 1 1 1 1 1 1 1\n",
      " 1 1 1 1 1 1 1 1 1 1 1 1 1 1 1 7 7 1 1 1 1 1 1 1 1 1 1 1 1 1 1 1 7 1 1 1 1\n",
      " 1 1 1 1 1 1 1 1 1 1 1 1 1 1 1 1 7 1 1 1 1 1 1 1 1 1 1 7 1 1 1 1 1 1 1 1 1\n",
      " 1 1 1 1 1 1 1 1 1 1 1 1 1 1 7 1 7 1 1 1 1 7 7 1 1 7 1 7 1 1 1 1 1 7 7 1 1\n",
      " 1 1 1 1 1 7 1 1 1 1 1 1 1 7 1 1 1 1 1 1 1 1 1 1 1 1 1 1 1 1 1 1 7 7 1 1 1\n",
      " 7 1 1 1 1 1 1 1 1 1 1 1 1 1 1 1 1 7 1 1 1 7 1 7 1 1 1 1 1 1 1 1 1 1 1 1 7\n",
      " 1 1 1 1 1 1 1 1 1 1 1 1 1 1 1 7 1 1 1 7 1 1 1 1 1 1 1 1 1 1 1 1 1 1 1 1 1\n",
      " 1 1 1 1 7 1 1 7 1 1 1 1 1 1 1 1 1 1 1 1 1 1 1 7 1 1 1 1 1 1 1 1 1 1 1 1 1\n",
      " 1 1 1 1 1 1 1 1 1 1 1 1 1 1 1 1 1 1 1 1 1 1 1 1 1 1 1 1 1 1 7 1 1 1 1 1 1\n",
      " 1 1 1 1 1 1 1 1 1 1 1 1 1 7 7 1 1 1 1 1 1 1 1 1 1 1 1 1 1 1 1 1 1 1 1 1 1\n",
      " 1 7 1 1 7 1 7 1 1 1 1 1 1 1 1 1 1 1 1 1 1 1 1 1 1 1 1 1 1 1 1 1 1 1 1 7 1\n",
      " 7 1 1 1 1 1 1 1 1 1 1 1 1 1 1 1 1 1 1 1 1 1 1 1 1 1 1 1 1 1 1 7 1 1 1 1 1\n",
      " 1 1 1 1 1 1 1 1 1 1 1 1 1 1 1 1 1 1 1 1 1 1 1 1 1 1 1 1 1 1 1 1 1 1 7 1 1\n",
      " 7 7 1 1 1 1 1 1 1 1 1 1 1 7 1 1 1 1 1 1 7 1 1 1 1 1 1 7 1 1 1 1 1 1 1 1 1\n",
      " 1 1 1 1 1 1 1 1 1 1 1 1 1 7 1 1 1 1 1 1 1 1 1 7 1 1 1 1 1 1 1 1 1 1 1 1 1\n",
      " 1 1 1 7 1 1 1 1 1 1 1 7 1 1 1 1 1 1 1 1 1 1 1 1 1 1 1 1 1 1 1 1 1 1 1 1 1\n",
      " 1 1 1 1 7 1 1 7 1 1 1 1 1 1 1 7 1 1 1 1 1 1 1 1 7 1 1 1 1 1 1 1 1 1 1 1 1\n",
      " 1 1 1 7 1 1 1 1 1 1 1 1 1 1 1 1 1 1 1 1 1 1 1 1 1 1 1 1 1 1 1 1 1 1 7 1 1\n",
      " 1 1 1 1 1 1 1 1 1 7 7 1 1 1 1 1 1 1 1 1 1 1 1 1 7 1 1 1 1 1 1 1 1 1 1 1 1\n",
      " 1 1 1 1 1 1 7 1 1 1 1 1 1 1 7 1 1 1 1 1 1 1 1 1 1 1 1 1 1 1 1 1 7 1 1 7 1\n",
      " 1 1 1 1 1 1 1 1 1 1 1 1 1 1 1 1 1 1 1 1 1 7 1 1 1 1 1 1 1 1 1 1 1 1 1 1 1\n",
      " 1 1 1 1 1 1 1 1 1 1 1 1 1 1 1 1 1 1 1 1 1 1 1 1 1 1 1 1 1 1 1 1 1 7 1 1 1\n",
      " 7 1 1 1 1 1 1 1 1 1 1 1 1 1 1 1 1 1 1 1 7 1 1 1 1 1 1 1 1 1 1 1 1 1 1 1 1\n",
      " 1 7 1 1 1 1 1 1 1 1 1 1 1 7 1 1 1 1 1 1 1 1 1 1 1 1 1 1 1 1 1 1 7 1 1 7 7\n",
      " 1 1 1 1 1 1 1 1 1 7 1 1 1 1 1 1 1 1 1 1 1 1 1 1 1 1 1 1 1 1 1 1 1 1 1 1 1\n",
      " 1 1 1 1 1 1 1 1 1 1 1 1 1 1 1 1 1 1 7 1 1 1 1 1 1 7 1 1 1 1 1 1 1 1 1 1 1\n",
      " 1 1 1 1 1 1 1 1 1 1 1 1 1 1 1 1 7 1 1 1 1 1 1 1 1 1 1 1 1 1 1 1 1 1 1 1 1\n",
      " 1 1 7 7 1 7 1 1 1 1 1 1 1 7 7 1 7 1 1 1 1 1 1 1 7 1 7 1 1 1 1 1 7 1 1 1 7\n",
      " 1 1 1 1 1 1 1 1 1 1 1 1 1 1 1 1 1 1 1 1 1 1 1 1 1 1 1 1 1 1 1 1 1 1 1 1 1\n",
      " 1 1 1 1 1 1 1 1 1 1 1 1 1 1 1 1 1 1 1 7 1 1 1 1 7 7 1 7 1 1 1 1 1 1 7 1 1\n",
      " 7 1 1 1 1 1 1 1 1 1 1 1 1 7 1 1 1 1 7 1 1 1 1 1 1 1 1 1 1 1 1 7 1 1 1 1 1\n",
      " 7 1 1 1 1 7 1 1 1 1 1 1 1 1 1 1 1 1 1 1 1 1 1 7 1 1 1 1 7 1 1 1 7 1 1 1 1\n",
      " 1 7 1 7 1 1 1 1 1 1 1 1 1 1 7 1 1 1 1 7 7 7 1 1 1 1 1 1 1 1 1 1 7 1 1 1 1\n",
      " 1 1 1 1 1 1 1 1 1 1 1 1 1 1 1 1 1 1 1 1 1 1 1 1 1 7 7 1 1 1 1 1 1 1 1 1 1\n",
      " 1 1 1 1 1 1 1 1 1 1 1 1 1 1 1 1 1 1 1 1 1 1 1 1 1 1 1 1 1 1 1 1 1 1 1 7 1\n",
      " 1 1 1 1 1 1 1 1 1 1 1 1 1 7 1 1 1 1 7 1 1 1 1 7 1 1 1 1 1 1 1 1 1 1 1 7 1\n",
      " 7 1 1 1 1 1 1 1 1 1 1 1 1 1 1 1 1 1 7 1 1 1 1 1 1 1 1 1 1 1 1 1 1 1 1 1 1\n",
      " 1 1 7 1 7 1 1 1 7 1 1 1 1 1 1 1 1 1 7 1 1 7 7 1 1 1 1 1 7 1 1 1 1 1 1 1 1\n",
      " 1 1 1 1 1 1 1 7 1 1 1 1 1 1 1 1 1 1 1 1 1 1 1 1 1 7 1 1 1 7 1 1 1 1 1 1 1\n",
      " 1 1 7 1 1 1 1 7 1 1 1 1 1 1 1 1 1 1 1 1 1 1 1 1 1 1 1 1 1 1 1 1 1 1 1 1 1\n",
      " 7 1 1 1 1 1 1 1 1 1 1 1 1 1 1 1 1 1 1 1 1 1 1 1 1 1 1 1 1 1 1 1 1 1 7 1 1\n",
      " 1 1 1 1 1 1 1 1 1 1 1 1 7 1 1 1 1 7 1 1 7 1 1 1 1 1 7 1 1 1 1 1 7 1 7 1 1\n",
      " 1 1 7 1 1 1 1 1 1 1 1 7 1 1 1 1 1 1 1 1 1 1 1 1 1 1 1 1 1 1 1 1 1 1 1 1 1\n",
      " 1 1 1 1 1 1 1 1 1 1 1 1 1 1 1 1 1 1 1 1 1 1 1 1 1 1 1 1 1 1 1 1 1 1 1 1 1\n",
      " 1 1 1 1 1 1 1 1 1 1 1 1 1 1 1 7 1 1 1 1 1 1 1 1 1 1 1 1 1 7 1 1 1 1 1 1 1\n",
      " 7 7 1 1 1 1 1 1 1 7 1 1 1 1 1 7 7 1 1 1 1 1 7 7 1 7 1 1 1 7 1 1 1 1 1 1 1\n",
      " 1 1 1 1 1 1 1 1 1 1 1 1 7 1 1 1 1 1 1 1 1 1 1 1 1 1 7 1 1 1 1 1 7 1 7 1 1\n",
      " 1 7 1 1 1 1 1 1 1 1 1 1 1 1 1 1 1]\n"
     ]
    }
   ],
   "source": [
    "d1, d2 = 1,7\n",
    "Test_X_1_7, Test_y_1_7 = extract_digits(test_X, test_y, d1, d2)\n",
    "\n",
    "test_X_1_7 = vectorize_images(Test_X_1_7)\n",
    "test_y_1_7 = Test_y_1_7\n",
    "\n",
    "Acc,Ypradict_1_7 = test_model(test_X_1_7, test_y_1_7, trained_model, 1, 7)\n",
    "# print(test_class_1_5)\n",
    "print(Acc,Ypradict_1_7)\n",
    "# test_class_1_7 = np.where(test_y_1_7 == 1, 0, 1)"
   ]
  },
  {
   "cell_type": "code",
   "execution_count": 154,
   "id": "8ac68412-e953-4683-acaf-6de5c81b9b3c",
   "metadata": {},
   "outputs": [
    {
     "data": {
      "image/png": "[encoded data removed]",
      "text/plain": [
       "<Figure size 800x600 with 2 Axes>"
      ]
     },
     "metadata": {},
     "output_type": "display_data"
    }
   ],
   "source": [
    "class_name = ['Class 0', 'Class 1']\n",
    "plot_confusion_matrix(test_y_1_7, Ypradict_1_7, class_names)"
   ]
  },
  {
   "cell_type": "markdown",
   "id": "c9197198-e2ad-41ae-a248-ff789a024e0e",
   "metadata": {},
   "source": [
    "<font color='blue'>The model struggled to achieve high accuracy when tested on the digits 1 and 7 due to their similar shapes in the handwritten images, making it challenging for the model to differentiate between the two classes accurately</font>."
   ]
  }
 ],
 "metadata": {
  "kernelspec": {
   "display_name": "Python 3 (ipykernel)",
   "language": "python",
   "name": "python3"
  },
  "language_info": {
   "codemirror_mode": {
    "name": "ipython",
    "version": 3
   },
   "file_extension": ".py",
   "mimetype": "text/x-python",
   "name": "python",
   "nbconvert_exporter": "python",
   "pygments_lexer": "ipython3",
   "version": "3.10.5"
  }
 },
 "nbformat": 4,
 "nbformat_minor": 5
}
